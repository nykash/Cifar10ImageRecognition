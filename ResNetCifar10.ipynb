{
  "nbformat": 4,
  "nbformat_minor": 0,
  "metadata": {
    "colab": {
      "name": "ResNetCifar10.ipynb",
      "provenance": [],
      "collapsed_sections": []
    },
    "kernelspec": {
      "name": "python3",
      "display_name": "Python 3"
    },
    "accelerator": "GPU"
  },
  "cells": [
    {
      "cell_type": "markdown",
      "metadata": {
        "id": "z7Q0W1Yskpxq"
      },
      "source": [
        "IMPORTS"
      ]
    },
    {
      "cell_type": "code",
      "metadata": {
        "colab": {
          "base_uri": "https://localhost:8080/"
        },
        "id": "3j5EiDN0teqU",
        "outputId": "57bfd524-5d2e-4241-829a-5ecd372fe839"
      },
      "source": [
        "import tensorflow as tf\r\n",
        "import numpy as np\r\n",
        "\r\n",
        "tf.config.list_physical_devices('GPU')"
      ],
      "execution_count": 1,
      "outputs": [
        {
          "output_type": "execute_result",
          "data": {
            "text/plain": [
              "[PhysicalDevice(name='/physical_device:GPU:0', device_type='GPU')]"
            ]
          },
          "metadata": {
            "tags": []
          },
          "execution_count": 1
        }
      ]
    },
    {
      "cell_type": "markdown",
      "metadata": {
        "id": "Z5JX6huMkrz6"
      },
      "source": [
        "This model features the Resnet50 Architecture on the Cifar10 Dataset"
      ]
    },
    {
      "cell_type": "code",
      "metadata": {
        "colab": {
          "base_uri": "https://localhost:8080/"
        },
        "id": "0ivA1eJSty2o",
        "outputId": "9a319a7b-8eb7-48b2-a23a-02b4d57a3a39"
      },
      "source": [
        "inputs = tf.keras.layers.Input(shape=(32, 32, 3))\r\n",
        "x = tf.keras.layers.UpSampling2D((2, 2))(inputs)\r\n",
        "x = tf.keras.layers.UpSampling2D((2, 2))(x)\r\n",
        "x = tf.keras.layers.UpSampling2D((2, 2))(x)\r\n",
        "x = tf.keras.applications.ResNet50(weights='imagenet', include_top=False, input_shape=(256, 256, 3))(x)\r\n",
        "x = tf.keras.layers.Flatten()(x)\r\n",
        "x = tf.keras.layers.BatchNormalization()(x)\r\n",
        "x = tf.keras.layers.Dense(128, activation=\"relu\")(x)\r\n",
        "x = tf.keras.layers.Dropout(0.5)(x)\r\n",
        "x = tf.keras.layers.BatchNormalization()(x)\r\n",
        "x = tf.keras.layers.Dense(64, activation=\"relu\")(x)\r\n",
        "x = tf.keras.layers.Dropout(0.2)(x)\r\n",
        "x = tf.keras.layers.BatchNormalization()(x)\r\n",
        "x = tf.keras.layers.Dense(10, activation=\"softmax\")(x)\r\n",
        "\r\n",
        "model = tf.keras.Model(inputs=inputs, outputs=x)\r\n",
        "\r\n",
        "print(\"created model\")\r\n",
        "\r\n",
        "model.compile(optimizer=tf.keras.optimizers.RMSprop(lr=2e-5), loss='categorical_crossentropy', metrics=['acc'])\r\n",
        "\r\n",
        "(x_train, raw_y_train), (x_test, raw_y_test) = tf.keras.datasets.cifar10.load_data()\r\n",
        "\r\n",
        "raw_y_train = raw_y_train.flatten()\r\n",
        "raw_y_test = raw_y_test.flatten()\r\n",
        "\r\n",
        "y_train = np.zeros((raw_y_train.size, 10))\r\n",
        "y_train[np.arange(raw_y_train.size), raw_y_train] = 1\r\n",
        "\r\n",
        "y_test = np.zeros((raw_y_test.shape[0], 10))\r\n",
        "y_test[np.arange(raw_y_test.size), raw_y_test] = 1\r\n",
        "\r\n",
        "x_train = np.divide(x_train, 255)\r\n",
        "x_test = np.divide(x_test, 255)\r\n",
        "\r\n",
        "print(x_train.shape)\r\n",
        "\r\n",
        "history = model.fit(x_train, y_train, epochs=5, validation_data=(x_test, y_test), batch_size=20)"
      ],
      "execution_count": 2,
      "outputs": [
        {
          "output_type": "stream",
          "text": [
            "Downloading data from https://storage.googleapis.com/tensorflow/keras-applications/resnet/resnet50_weights_tf_dim_ordering_tf_kernels_notop.h5\n",
            "94773248/94765736 [==============================] - 1s 0us/step\n",
            "created model\n",
            "Downloading data from https://www.cs.toronto.edu/~kriz/cifar-10-python.tar.gz\n",
            "170500096/170498071 [==============================] - 4s 0us/step\n",
            "(50000, 32, 32, 3)\n",
            "Epoch 1/5\n",
            "2500/2500 [==============================] - 718s 280ms/step - loss: 1.6287 - acc: 0.4571 - val_loss: 0.4775 - val_acc: 0.8601\n",
            "Epoch 2/5\n",
            "2500/2500 [==============================] - 708s 283ms/step - loss: 0.6930 - acc: 0.7953 - val_loss: 0.2935 - val_acc: 0.9136\n",
            "Epoch 3/5\n",
            "2500/2500 [==============================] - 708s 283ms/step - loss: 0.4504 - acc: 0.8778 - val_loss: 0.2245 - val_acc: 0.9315\n",
            "Epoch 4/5\n",
            "2500/2500 [==============================] - 707s 283ms/step - loss: 0.3158 - acc: 0.9192 - val_loss: 0.2067 - val_acc: 0.9365\n",
            "Epoch 5/5\n",
            "2500/2500 [==============================] - 709s 284ms/step - loss: 0.2318 - acc: 0.9441 - val_loss: 0.1887 - val_acc: 0.9407\n"
          ],
          "name": "stdout"
        }
      ]
    },
    {
      "cell_type": "code",
      "metadata": {
        "colab": {
          "base_uri": "https://localhost:8080/"
        },
        "id": "paGtbFC5wK2t",
        "outputId": "9b0bbd8f-80b4-4717-a655-d595df5e6482"
      },
      "source": [
        "model.evaluate(x_test, y_test)"
      ],
      "execution_count": 3,
      "outputs": [
        {
          "output_type": "stream",
          "text": [
            "313/313 [==============================] - 41s 128ms/step - loss: 0.1887 - acc: 0.9407\n"
          ],
          "name": "stdout"
        },
        {
          "output_type": "execute_result",
          "data": {
            "text/plain": [
              "[0.18865162134170532, 0.9406999945640564]"
            ]
          },
          "metadata": {
            "tags": []
          },
          "execution_count": 3
        }
      ]
    },
    {
      "cell_type": "code",
      "metadata": {
        "colab": {
          "base_uri": "https://localhost:8080/",
          "height": 590
        },
        "id": "9qLeUcCryJPM",
        "outputId": "b36881b3-56a8-42a3-9858-3a59c882d669"
      },
      "source": [
        "import matplotlib.pyplot as plt \r\n",
        "\r\n",
        "print(history.history.keys())\r\n",
        "#  \"Accuracy\"\r\n",
        "plt.plot(history.history['acc'])\r\n",
        "plt.plot(history.history['val_acc'])\r\n",
        "plt.title('model accuracy')\r\n",
        "plt.ylabel('accuracy')\r\n",
        "plt.xlabel('epoch')\r\n",
        "plt.legend(['train', 'validation'], loc='upper left')\r\n",
        "plt.show()\r\n",
        "# \"Loss\"\r\n",
        "plt.plot(history.history['loss'])\r\n",
        "plt.plot(history.history['val_loss'])\r\n",
        "plt.title('model loss')\r\n",
        "plt.ylabel('loss')\r\n",
        "plt.xlabel('epoch')\r\n",
        "plt.legend(['train', 'validation'], loc='upper left')\r\n",
        "plt.show()"
      ],
      "execution_count": 5,
      "outputs": [
        {
          "output_type": "stream",
          "text": [
            "dict_keys(['loss', 'acc', 'val_loss', 'val_acc'])\n"
          ],
          "name": "stdout"
        },
        {
          "output_type": "display_data",
          "data": {
            "image/png": "[encoded data removed]",
            "text/plain": [
              "<Figure size 432x288 with 1 Axes>"
            ]
          },
          "metadata": {
            "tags": [],
            "needs_background": "light"
          }
        },
        {
          "output_type": "display_data",
          "data": {
            "image/png": "[encoded data removed]",
            "text/plain": [
              "<Figure size 432x288 with 1 Axes>"
            ]
          },
          "metadata": {
            "tags": [],
            "needs_background": "light"
          }
        }
      ]
    }
  ]
}